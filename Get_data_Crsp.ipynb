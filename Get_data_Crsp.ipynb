{
 "cells": [
  {
   "cell_type": "code",
   "execution_count": 26,
   "id": "4ec4522f",
   "metadata": {},
   "outputs": [],
   "source": [
    "import wrds\n",
    "import pandas as pd\n",
    "from pathlib import Path"
   ]
  },
  {
   "cell_type": "code",
   "execution_count": 27,
   "id": "d14983b5",
   "metadata": {},
   "outputs": [],
   "source": [
    "file_path = Path.cwd() / \"SAMPLE_10Ks\"\n",
    "file_path.mkdir(parents=True, exist_ok=True)\n"
   ]
  },
  {
   "cell_type": "code",
   "execution_count": null,
   "id": "13117bff",
   "metadata": {},
   "outputs": [],
   "source": []
  },
  {
   "cell_type": "code",
   "execution_count": 28,
   "id": "63beea65",
   "metadata": {},
   "outputs": [],
   "source": [
    "def create_codes(path):\n",
    "    names_list = []\n",
    "    cik_list = []\n",
    "    year_list = []\n",
    "\n",
    "    for files in path.glob(\"*.txt\"):\n",
    "        file = files.read_text().splitlines()\n",
    "        loop = -1\n",
    "        for lines in file:\n",
    "            loop = loop + 1\n",
    "            line = lines.rfind(\"COMPANY CONFORMED NAME:\")\n",
    "            if line != -1:\n",
    "                name = file[loop].replace(\"COMPANY CONFORMED NAME:\", \"\").strip().rstrip()\n",
    "                names_list.append(name)\n",
    "                break\n",
    "\n",
    "    for files in path.glob(\"*.txt\"):\n",
    "        file = files.read_text().splitlines()\n",
    "        year = files.name[:-5:-1]\n",
    "        year = year[::-1]\n",
    "        year_list.append(year)\n",
    "        loop = -1\n",
    "        for lines in file:\n",
    "            loop = loop + 1\n",
    "            line = lines.rfind(\"CENTRAL INDEX KEY:\")\n",
    "            if line != -1:\n",
    "                cik = file[loop].replace(\"CENTRAL INDEX KEY:\", \"\").strip().rstrip()\n",
    "                cik_list.append(cik)\n",
    "                break\n",
    "    \n",
    "    \n",
    "    company_info = pd.DataFrame()\n",
    "    company_info[\"Companies\"] = names_list\n",
    "    company_info[\"CIK\"] = cik_list\n",
    "    company_info[\"Year\"] = year_list\n",
    "\n",
    "    return company_info"
   ]
  },
  {
   "cell_type": "code",
   "execution_count": 29,
   "id": "5b55b6ae",
   "metadata": {},
   "outputs": [],
   "source": [
    "company_info = create_codes(file_path)\n",
    "\n",
    "company_info.drop_duplicates()\n",
    "\n",
    "year_list = list(company_info[\"Year\"])\n",
    "cik_list = list(company_info[\"CIK\"])\n",
    "names_list = list(company_info[\"Companies\"])"
   ]
  },
  {
   "cell_type": "code",
   "execution_count": 30,
   "id": "99982b93",
   "metadata": {},
   "outputs": [
    {
     "name": "stdout",
     "output_type": "stream",
     "text": [
      "WRDS recommends setting up a .pgpass file.\n",
      "Created .pgpass file successfully.\n",
      "You can create this file yourself at any time with the create_pgpass_file() function.\n",
      "Loading library list...\n",
      "Done\n"
     ]
    }
   ],
   "source": [
    "db = wrds.Connection()"
   ]
  },
  {
   "cell_type": "code",
   "execution_count": 31,
   "id": "4234208f",
   "metadata": {},
   "outputs": [],
   "source": [
    "tuple_cik = tuple(cik_list)\n",
    "cik_params = {\"cik_list\": tuple_cik}"
   ]
  },
  {
   "cell_type": "code",
   "execution_count": 32,
   "id": "02c9949f",
   "metadata": {},
   "outputs": [],
   "source": [
    "CIK_query = db.raw_sql(\"\"\"SELECT cik, cusip, lpermno, linkdt FROM crsp_a_ccm.ccm_lookup\n",
    "                 WHERE cik IN %(cik_list)s\"\"\", params = cik_params)\n",
    "CUSIP = pd.DataFrame(CIK_query)\n",
    "\n",
    "cusip_tuple = tuple(CUSIP[\"cusip\"])\n",
    "cusip_params = {\"cusip_list\": cusip_tuple}\n",
    "\n",
    "permno_tuple = tuple(CUSIP[\"lpermno\"])\n",
    "permno_params = {\"permno_list\": permno_tuple}"
   ]
  },
  {
   "cell_type": "code",
   "execution_count": 33,
   "id": "7da6f071",
   "metadata": {},
   "outputs": [
    {
     "data": {
      "text/plain": [
       "<bound method Connection.close of <wrds.sql.Connection object at 0x137c58dd0>>"
      ]
     },
     "execution_count": 33,
     "metadata": {},
     "output_type": "execute_result"
    }
   ],
   "source": [
    "db.close"
   ]
  },
  {
   "cell_type": "code",
   "execution_count": 34,
   "id": "7f175fa8",
   "metadata": {},
   "outputs": [],
   "source": [
    "Returns_Query = db.raw_sql(\"\"\"SELECT permno,yyyy,cusip,annret,anncap  FROM crsp_a_stock.stkannsecuritydata\n",
    "                 WHERE permno IN %(permno_list)s\"\"\", params = permno_params)\n",
    "RETURNS = pd.DataFrame(Returns_Query)"
   ]
  },
  {
   "cell_type": "code",
   "execution_count": 35,
   "id": "98d25e83",
   "metadata": {},
   "outputs": [
    {
     "data": {
      "text/plain": [
       "<bound method Connection.close of <wrds.sql.Connection object at 0x137c58dd0>>"
      ]
     },
     "execution_count": 35,
     "metadata": {},
     "output_type": "execute_result"
    }
   ],
   "source": [
    "db.close"
   ]
  },
  {
   "cell_type": "code",
   "execution_count": 36,
   "id": "2961f831",
   "metadata": {},
   "outputs": [
    {
     "data": {
      "text/html": [
       "<div>\n",
       "<style scoped>\n",
       "    .dataframe tbody tr th:only-of-type {\n",
       "        vertical-align: middle;\n",
       "    }\n",
       "\n",
       "    .dataframe tbody tr th {\n",
       "        vertical-align: top;\n",
       "    }\n",
       "\n",
       "    .dataframe thead th {\n",
       "        text-align: right;\n",
       "    }\n",
       "</style>\n",
       "<table border=\"1\" class=\"dataframe\">\n",
       "  <thead>\n",
       "    <tr style=\"text-align: right;\">\n",
       "      <th></th>\n",
       "      <th>permno</th>\n",
       "      <th>yyyy</th>\n",
       "      <th>cusip</th>\n",
       "      <th>annret</th>\n",
       "      <th>anncap</th>\n",
       "    </tr>\n",
       "  </thead>\n",
       "  <tbody>\n",
       "    <tr>\n",
       "      <th>0</th>\n",
       "      <td>10225</td>\n",
       "      <td>1925</td>\n",
       "      <td>None</td>\n",
       "      <td>NaN</td>\n",
       "      <td>130728.50</td>\n",
       "    </tr>\n",
       "    <tr>\n",
       "      <th>1</th>\n",
       "      <td>10225</td>\n",
       "      <td>1926</td>\n",
       "      <td>None</td>\n",
       "      <td>0.144335</td>\n",
       "      <td>139769.00</td>\n",
       "    </tr>\n",
       "    <tr>\n",
       "      <th>2</th>\n",
       "      <td>10225</td>\n",
       "      <td>1927</td>\n",
       "      <td>None</td>\n",
       "      <td>0.518574</td>\n",
       "      <td>200613.00</td>\n",
       "    </tr>\n",
       "    <tr>\n",
       "      <th>3</th>\n",
       "      <td>10225</td>\n",
       "      <td>1928</td>\n",
       "      <td>None</td>\n",
       "      <td>0.067666</td>\n",
       "      <td>204057.00</td>\n",
       "    </tr>\n",
       "    <tr>\n",
       "      <th>4</th>\n",
       "      <td>10225</td>\n",
       "      <td>1929</td>\n",
       "      <td>None</td>\n",
       "      <td>0.292785</td>\n",
       "      <td>314725.50</td>\n",
       "    </tr>\n",
       "    <tr>\n",
       "      <th>...</th>\n",
       "      <td>...</td>\n",
       "      <td>...</td>\n",
       "      <td>...</td>\n",
       "      <td>...</td>\n",
       "      <td>...</td>\n",
       "    </tr>\n",
       "    <tr>\n",
       "      <th>5651</th>\n",
       "      <td>93274</td>\n",
       "      <td>2019</td>\n",
       "      <td>16949H20</td>\n",
       "      <td>-0.130662</td>\n",
       "      <td>22867.78</td>\n",
       "    </tr>\n",
       "    <tr>\n",
       "      <th>5652</th>\n",
       "      <td>93274</td>\n",
       "      <td>2020</td>\n",
       "      <td>98880R10</td>\n",
       "      <td>0.158798</td>\n",
       "      <td>35185.05</td>\n",
       "    </tr>\n",
       "    <tr>\n",
       "      <th>5653</th>\n",
       "      <td>93274</td>\n",
       "      <td>2021</td>\n",
       "      <td>98880R10</td>\n",
       "      <td>-0.259259</td>\n",
       "      <td>35333.00</td>\n",
       "    </tr>\n",
       "    <tr>\n",
       "      <th>5654</th>\n",
       "      <td>93274</td>\n",
       "      <td>2022</td>\n",
       "      <td>98880R10</td>\n",
       "      <td>-0.540000</td>\n",
       "      <td>16480.88</td>\n",
       "    </tr>\n",
       "    <tr>\n",
       "      <th>5655</th>\n",
       "      <td>93274</td>\n",
       "      <td>2023</td>\n",
       "      <td>98880R20</td>\n",
       "      <td>-0.639130</td>\n",
       "      <td>5980.15</td>\n",
       "    </tr>\n",
       "  </tbody>\n",
       "</table>\n",
       "<p>5656 rows × 5 columns</p>\n",
       "</div>"
      ],
      "text/plain": [
       "      permno  yyyy     cusip    annret     anncap\n",
       "0      10225  1925      None       NaN  130728.50\n",
       "1      10225  1926      None  0.144335  139769.00\n",
       "2      10225  1927      None  0.518574  200613.00\n",
       "3      10225  1928      None  0.067666  204057.00\n",
       "4      10225  1929      None  0.292785  314725.50\n",
       "...      ...   ...       ...       ...        ...\n",
       "5651   93274  2019  16949H20 -0.130662   22867.78\n",
       "5652   93274  2020  98880R10  0.158798   35185.05\n",
       "5653   93274  2021  98880R10 -0.259259   35333.00\n",
       "5654   93274  2022  98880R10 -0.540000   16480.88\n",
       "5655   93274  2023  98880R20 -0.639130    5980.15\n",
       "\n",
       "[5656 rows x 5 columns]"
      ]
     },
     "execution_count": 36,
     "metadata": {},
     "output_type": "execute_result"
    }
   ],
   "source": [
    "RETURNS"
   ]
  },
  {
   "cell_type": "code",
   "execution_count": 38,
   "id": "4dcba5ab",
   "metadata": {},
   "outputs": [
    {
     "name": "stdout",
     "output_type": "stream",
     "text": [
      "WRDS recommends setting up a .pgpass file.\n",
      "Created .pgpass file successfully.\n",
      "You can create this file yourself at any time with the create_pgpass_file() function.\n",
      "Loading library list...\n",
      "Done\n"
     ]
    },
    {
     "ename": "ProgrammingError",
     "evalue": "(psycopg2.errors.UndefinedColumn) column \"permno\" does not exist\nLINE 2: SELECT permno, cik\n               ^\nHINT:  Perhaps you meant to reference the column \"ccmxpf_linktable.lpermno\".\n\n[SQL: \nSELECT permno, cik\nFROM crsp.ccmxpf_linktable\nWHERE cik = '0000320193'\nAND lpermno IS NOT NULL\nORDER BY linkdt DESC\nLIMIT 1;\n]\n(Background on this error at: https://sqlalche.me/e/20/f405)",
     "output_type": "error",
     "traceback": [
      "\u001b[0;31m---------------------------------------------------------------------------\u001b[0m",
      "\u001b[0;31mUndefinedColumn\u001b[0m                           Traceback (most recent call last)",
      "File \u001b[0;32m~/anaconda3/envs/fs_ads/lib/python3.11/site-packages/sqlalchemy/engine/base.py:1960\u001b[0m, in \u001b[0;36mConnection._exec_single_context\u001b[0;34m(self, dialect, context, statement, parameters)\u001b[0m\n\u001b[1;32m   1959\u001b[0m     \u001b[38;5;28;01mif\u001b[39;00m \u001b[38;5;129;01mnot\u001b[39;00m evt_handled:\n\u001b[0;32m-> 1960\u001b[0m         \u001b[38;5;28mself\u001b[39m\u001b[38;5;241m.\u001b[39mdialect\u001b[38;5;241m.\u001b[39mdo_execute(\n\u001b[1;32m   1961\u001b[0m             cursor, str_statement, effective_parameters, context\n\u001b[1;32m   1962\u001b[0m         )\n\u001b[1;32m   1964\u001b[0m \u001b[38;5;28;01mif\u001b[39;00m \u001b[38;5;28mself\u001b[39m\u001b[38;5;241m.\u001b[39m_has_events \u001b[38;5;129;01mor\u001b[39;00m \u001b[38;5;28mself\u001b[39m\u001b[38;5;241m.\u001b[39mengine\u001b[38;5;241m.\u001b[39m_has_events:\n",
      "File \u001b[0;32m~/anaconda3/envs/fs_ads/lib/python3.11/site-packages/sqlalchemy/engine/default.py:924\u001b[0m, in \u001b[0;36mDefaultDialect.do_execute\u001b[0;34m(self, cursor, statement, parameters, context)\u001b[0m\n\u001b[1;32m    923\u001b[0m \u001b[38;5;28;01mdef\u001b[39;00m \u001b[38;5;21mdo_execute\u001b[39m(\u001b[38;5;28mself\u001b[39m, cursor, statement, parameters, context\u001b[38;5;241m=\u001b[39m\u001b[38;5;28;01mNone\u001b[39;00m):\n\u001b[0;32m--> 924\u001b[0m     cursor\u001b[38;5;241m.\u001b[39mexecute(statement, parameters)\n",
      "\u001b[0;31mUndefinedColumn\u001b[0m: column \"permno\" does not exist\nLINE 2: SELECT permno, cik\n               ^\nHINT:  Perhaps you meant to reference the column \"ccmxpf_linktable.lpermno\".\n",
      "\nThe above exception was the direct cause of the following exception:\n",
      "\u001b[0;31mProgrammingError\u001b[0m                          Traceback (most recent call last)",
      "Cell \u001b[0;32mIn[38], line 20\u001b[0m\n\u001b[1;32m     10\u001b[0m query \u001b[38;5;241m=\u001b[39m \u001b[38;5;124mf\u001b[39m\u001b[38;5;124m\"\"\"\u001b[39m\n\u001b[1;32m     11\u001b[0m \u001b[38;5;124mSELECT permno, cik\u001b[39m\n\u001b[1;32m     12\u001b[0m \u001b[38;5;124mFROM crsp.ccmxpf_linktable\u001b[39m\n\u001b[0;32m   (...)\u001b[0m\n\u001b[1;32m     16\u001b[0m \u001b[38;5;124mLIMIT 1;\u001b[39m\n\u001b[1;32m     17\u001b[0m \u001b[38;5;124m\"\"\"\u001b[39m\n\u001b[1;32m     19\u001b[0m \u001b[38;5;66;03m# Execute the query\u001b[39;00m\n\u001b[0;32m---> 20\u001b[0m result \u001b[38;5;241m=\u001b[39m db\u001b[38;5;241m.\u001b[39mraw_sql(query)\n\u001b[1;32m     22\u001b[0m \u001b[38;5;66;03m# Check if we found a match and print it\u001b[39;00m\n\u001b[1;32m     23\u001b[0m \u001b[38;5;28;01mif\u001b[39;00m \u001b[38;5;129;01mnot\u001b[39;00m result\u001b[38;5;241m.\u001b[39mempty:\n",
      "File \u001b[0;32m~/anaconda3/envs/fs_ads/lib/python3.11/site-packages/wrds/sql.py:583\u001b[0m, in \u001b[0;36mConnection.raw_sql\u001b[0;34m(self, sql, coerce_float, date_cols, index_col, params, chunksize, return_iter)\u001b[0m\n\u001b[1;32m    581\u001b[0m         \u001b[38;5;28;01mreturn\u001b[39;00m full_df\n\u001b[1;32m    582\u001b[0m \u001b[38;5;28;01mexcept\u001b[39;00m sa\u001b[38;5;241m.\u001b[39mexc\u001b[38;5;241m.\u001b[39mProgrammingError \u001b[38;5;28;01mas\u001b[39;00m e:\n\u001b[0;32m--> 583\u001b[0m     \u001b[38;5;28;01mraise\u001b[39;00m e\n",
      "File \u001b[0;32m~/anaconda3/envs/fs_ads/lib/python3.11/site-packages/wrds/sql.py:566\u001b[0m, in \u001b[0;36mConnection.raw_sql\u001b[0;34m(self, sql, coerce_float, date_cols, index_col, params, chunksize, return_iter)\u001b[0m\n\u001b[1;32m    509\u001b[0m \u001b[38;5;250m\u001b[39m\u001b[38;5;124;03m\"\"\"\u001b[39;00m\n\u001b[1;32m    510\u001b[0m \u001b[38;5;124;03mQueries the database using a raw SQL string.\u001b[39;00m\n\u001b[1;32m    511\u001b[0m \n\u001b[0;32m   (...)\u001b[0m\n\u001b[1;32m    562\u001b[0m \u001b[38;5;124;03m    2003-09-10  09:35:20.709000  N       AA       None     None  108100.0  28.200          N      00  1.929947e+15         C  None\u001b[39;00m\n\u001b[1;32m    563\u001b[0m \u001b[38;5;124;03m\"\"\"\u001b[39;00m  \u001b[38;5;66;03m# noqa\u001b[39;00m\n\u001b[1;32m    565\u001b[0m \u001b[38;5;28;01mtry\u001b[39;00m:\n\u001b[0;32m--> 566\u001b[0m     df \u001b[38;5;241m=\u001b[39m pd\u001b[38;5;241m.\u001b[39mread_sql_query(\n\u001b[1;32m    567\u001b[0m         sql,\n\u001b[1;32m    568\u001b[0m         \u001b[38;5;28mself\u001b[39m\u001b[38;5;241m.\u001b[39mconnection,\n\u001b[1;32m    569\u001b[0m         coerce_float\u001b[38;5;241m=\u001b[39mcoerce_float,\n\u001b[1;32m    570\u001b[0m         parse_dates\u001b[38;5;241m=\u001b[39mdate_cols,\n\u001b[1;32m    571\u001b[0m         index_col\u001b[38;5;241m=\u001b[39mindex_col,\n\u001b[1;32m    572\u001b[0m         chunksize\u001b[38;5;241m=\u001b[39mchunksize,\n\u001b[1;32m    573\u001b[0m         params\u001b[38;5;241m=\u001b[39mparams,\n\u001b[1;32m    574\u001b[0m     )\n\u001b[1;32m    575\u001b[0m     \u001b[38;5;28;01mif\u001b[39;00m return_iter \u001b[38;5;129;01mor\u001b[39;00m chunksize \u001b[38;5;129;01mis\u001b[39;00m \u001b[38;5;28;01mNone\u001b[39;00m:\n\u001b[1;32m    576\u001b[0m         \u001b[38;5;28;01mreturn\u001b[39;00m df\n",
      "File \u001b[0;32m~/anaconda3/envs/fs_ads/lib/python3.11/site-packages/pandas/io/sql.py:526\u001b[0m, in \u001b[0;36mread_sql_query\u001b[0;34m(sql, con, index_col, coerce_float, params, parse_dates, chunksize, dtype, dtype_backend)\u001b[0m\n\u001b[1;32m    523\u001b[0m \u001b[38;5;28;01massert\u001b[39;00m dtype_backend \u001b[38;5;129;01mis\u001b[39;00m \u001b[38;5;129;01mnot\u001b[39;00m lib\u001b[38;5;241m.\u001b[39mno_default\n\u001b[1;32m    525\u001b[0m \u001b[38;5;28;01mwith\u001b[39;00m pandasSQL_builder(con) \u001b[38;5;28;01mas\u001b[39;00m pandas_sql:\n\u001b[0;32m--> 526\u001b[0m     \u001b[38;5;28;01mreturn\u001b[39;00m pandas_sql\u001b[38;5;241m.\u001b[39mread_query(\n\u001b[1;32m    527\u001b[0m         sql,\n\u001b[1;32m    528\u001b[0m         index_col\u001b[38;5;241m=\u001b[39mindex_col,\n\u001b[1;32m    529\u001b[0m         params\u001b[38;5;241m=\u001b[39mparams,\n\u001b[1;32m    530\u001b[0m         coerce_float\u001b[38;5;241m=\u001b[39mcoerce_float,\n\u001b[1;32m    531\u001b[0m         parse_dates\u001b[38;5;241m=\u001b[39mparse_dates,\n\u001b[1;32m    532\u001b[0m         chunksize\u001b[38;5;241m=\u001b[39mchunksize,\n\u001b[1;32m    533\u001b[0m         dtype\u001b[38;5;241m=\u001b[39mdtype,\n\u001b[1;32m    534\u001b[0m         dtype_backend\u001b[38;5;241m=\u001b[39mdtype_backend,\n\u001b[1;32m    535\u001b[0m     )\n",
      "File \u001b[0;32m~/anaconda3/envs/fs_ads/lib/python3.11/site-packages/pandas/io/sql.py:1839\u001b[0m, in \u001b[0;36mSQLDatabase.read_query\u001b[0;34m(self, sql, index_col, coerce_float, parse_dates, params, chunksize, dtype, dtype_backend)\u001b[0m\n\u001b[1;32m   1782\u001b[0m \u001b[38;5;28;01mdef\u001b[39;00m \u001b[38;5;21mread_query\u001b[39m(\n\u001b[1;32m   1783\u001b[0m     \u001b[38;5;28mself\u001b[39m,\n\u001b[1;32m   1784\u001b[0m     sql: \u001b[38;5;28mstr\u001b[39m,\n\u001b[0;32m   (...)\u001b[0m\n\u001b[1;32m   1791\u001b[0m     dtype_backend: DtypeBackend \u001b[38;5;241m|\u001b[39m Literal[\u001b[38;5;124m\"\u001b[39m\u001b[38;5;124mnumpy\u001b[39m\u001b[38;5;124m\"\u001b[39m] \u001b[38;5;241m=\u001b[39m \u001b[38;5;124m\"\u001b[39m\u001b[38;5;124mnumpy\u001b[39m\u001b[38;5;124m\"\u001b[39m,\n\u001b[1;32m   1792\u001b[0m ) \u001b[38;5;241m-\u001b[39m\u001b[38;5;241m>\u001b[39m DataFrame \u001b[38;5;241m|\u001b[39m Iterator[DataFrame]:\n\u001b[1;32m   1793\u001b[0m \u001b[38;5;250m    \u001b[39m\u001b[38;5;124;03m\"\"\"\u001b[39;00m\n\u001b[1;32m   1794\u001b[0m \u001b[38;5;124;03m    Read SQL query into a DataFrame.\u001b[39;00m\n\u001b[1;32m   1795\u001b[0m \n\u001b[0;32m   (...)\u001b[0m\n\u001b[1;32m   1837\u001b[0m \n\u001b[1;32m   1838\u001b[0m \u001b[38;5;124;03m    \"\"\"\u001b[39;00m\n\u001b[0;32m-> 1839\u001b[0m     result \u001b[38;5;241m=\u001b[39m \u001b[38;5;28mself\u001b[39m\u001b[38;5;241m.\u001b[39mexecute(sql, params)\n\u001b[1;32m   1840\u001b[0m     columns \u001b[38;5;241m=\u001b[39m result\u001b[38;5;241m.\u001b[39mkeys()\n\u001b[1;32m   1842\u001b[0m     \u001b[38;5;28;01mif\u001b[39;00m chunksize \u001b[38;5;129;01mis\u001b[39;00m \u001b[38;5;129;01mnot\u001b[39;00m \u001b[38;5;28;01mNone\u001b[39;00m:\n",
      "File \u001b[0;32m~/anaconda3/envs/fs_ads/lib/python3.11/site-packages/pandas/io/sql.py:1662\u001b[0m, in \u001b[0;36mSQLDatabase.execute\u001b[0;34m(self, sql, params)\u001b[0m\n\u001b[1;32m   1660\u001b[0m args \u001b[38;5;241m=\u001b[39m [] \u001b[38;5;28;01mif\u001b[39;00m params \u001b[38;5;129;01mis\u001b[39;00m \u001b[38;5;28;01mNone\u001b[39;00m \u001b[38;5;28;01melse\u001b[39;00m [params]\n\u001b[1;32m   1661\u001b[0m \u001b[38;5;28;01mif\u001b[39;00m \u001b[38;5;28misinstance\u001b[39m(sql, \u001b[38;5;28mstr\u001b[39m):\n\u001b[0;32m-> 1662\u001b[0m     \u001b[38;5;28;01mreturn\u001b[39;00m \u001b[38;5;28mself\u001b[39m\u001b[38;5;241m.\u001b[39mcon\u001b[38;5;241m.\u001b[39mexec_driver_sql(sql, \u001b[38;5;241m*\u001b[39margs)\n\u001b[1;32m   1663\u001b[0m \u001b[38;5;28;01mreturn\u001b[39;00m \u001b[38;5;28mself\u001b[39m\u001b[38;5;241m.\u001b[39mcon\u001b[38;5;241m.\u001b[39mexecute(sql, \u001b[38;5;241m*\u001b[39margs)\n",
      "File \u001b[0;32m~/anaconda3/envs/fs_ads/lib/python3.11/site-packages/sqlalchemy/engine/base.py:1769\u001b[0m, in \u001b[0;36mConnection.exec_driver_sql\u001b[0;34m(self, statement, parameters, execution_options)\u001b[0m\n\u001b[1;32m   1764\u001b[0m execution_options \u001b[38;5;241m=\u001b[39m \u001b[38;5;28mself\u001b[39m\u001b[38;5;241m.\u001b[39m_execution_options\u001b[38;5;241m.\u001b[39mmerge_with(\n\u001b[1;32m   1765\u001b[0m     execution_options\n\u001b[1;32m   1766\u001b[0m )\n\u001b[1;32m   1768\u001b[0m dialect \u001b[38;5;241m=\u001b[39m \u001b[38;5;28mself\u001b[39m\u001b[38;5;241m.\u001b[39mdialect\n\u001b[0;32m-> 1769\u001b[0m ret \u001b[38;5;241m=\u001b[39m \u001b[38;5;28mself\u001b[39m\u001b[38;5;241m.\u001b[39m_execute_context(\n\u001b[1;32m   1770\u001b[0m     dialect,\n\u001b[1;32m   1771\u001b[0m     dialect\u001b[38;5;241m.\u001b[39mexecution_ctx_cls\u001b[38;5;241m.\u001b[39m_init_statement,\n\u001b[1;32m   1772\u001b[0m     statement,\n\u001b[1;32m   1773\u001b[0m     \u001b[38;5;28;01mNone\u001b[39;00m,\n\u001b[1;32m   1774\u001b[0m     execution_options,\n\u001b[1;32m   1775\u001b[0m     statement,\n\u001b[1;32m   1776\u001b[0m     distilled_parameters,\n\u001b[1;32m   1777\u001b[0m )\n\u001b[1;32m   1779\u001b[0m \u001b[38;5;28;01mreturn\u001b[39;00m ret\n",
      "File \u001b[0;32m~/anaconda3/envs/fs_ads/lib/python3.11/site-packages/sqlalchemy/engine/base.py:1839\u001b[0m, in \u001b[0;36mConnection._execute_context\u001b[0;34m(self, dialect, constructor, statement, parameters, execution_options, *args, **kw)\u001b[0m\n\u001b[1;32m   1834\u001b[0m     \u001b[38;5;28;01mreturn\u001b[39;00m \u001b[38;5;28mself\u001b[39m\u001b[38;5;241m.\u001b[39m_exec_insertmany_context(\n\u001b[1;32m   1835\u001b[0m         dialect,\n\u001b[1;32m   1836\u001b[0m         context,\n\u001b[1;32m   1837\u001b[0m     )\n\u001b[1;32m   1838\u001b[0m \u001b[38;5;28;01melse\u001b[39;00m:\n\u001b[0;32m-> 1839\u001b[0m     \u001b[38;5;28;01mreturn\u001b[39;00m \u001b[38;5;28mself\u001b[39m\u001b[38;5;241m.\u001b[39m_exec_single_context(\n\u001b[1;32m   1840\u001b[0m         dialect, context, statement, parameters\n\u001b[1;32m   1841\u001b[0m     )\n",
      "File \u001b[0;32m~/anaconda3/envs/fs_ads/lib/python3.11/site-packages/sqlalchemy/engine/base.py:1979\u001b[0m, in \u001b[0;36mConnection._exec_single_context\u001b[0;34m(self, dialect, context, statement, parameters)\u001b[0m\n\u001b[1;32m   1976\u001b[0m     result \u001b[38;5;241m=\u001b[39m context\u001b[38;5;241m.\u001b[39m_setup_result_proxy()\n\u001b[1;32m   1978\u001b[0m \u001b[38;5;28;01mexcept\u001b[39;00m \u001b[38;5;167;01mBaseException\u001b[39;00m \u001b[38;5;28;01mas\u001b[39;00m e:\n\u001b[0;32m-> 1979\u001b[0m     \u001b[38;5;28mself\u001b[39m\u001b[38;5;241m.\u001b[39m_handle_dbapi_exception(\n\u001b[1;32m   1980\u001b[0m         e, str_statement, effective_parameters, cursor, context\n\u001b[1;32m   1981\u001b[0m     )\n\u001b[1;32m   1983\u001b[0m \u001b[38;5;28;01mreturn\u001b[39;00m result\n",
      "File \u001b[0;32m~/anaconda3/envs/fs_ads/lib/python3.11/site-packages/sqlalchemy/engine/base.py:2335\u001b[0m, in \u001b[0;36mConnection._handle_dbapi_exception\u001b[0;34m(self, e, statement, parameters, cursor, context, is_sub_exec)\u001b[0m\n\u001b[1;32m   2333\u001b[0m \u001b[38;5;28;01melif\u001b[39;00m should_wrap:\n\u001b[1;32m   2334\u001b[0m     \u001b[38;5;28;01massert\u001b[39;00m sqlalchemy_exception \u001b[38;5;129;01mis\u001b[39;00m \u001b[38;5;129;01mnot\u001b[39;00m \u001b[38;5;28;01mNone\u001b[39;00m\n\u001b[0;32m-> 2335\u001b[0m     \u001b[38;5;28;01mraise\u001b[39;00m sqlalchemy_exception\u001b[38;5;241m.\u001b[39mwith_traceback(exc_info[\u001b[38;5;241m2\u001b[39m]) \u001b[38;5;28;01mfrom\u001b[39;00m \u001b[38;5;21;01me\u001b[39;00m\n\u001b[1;32m   2336\u001b[0m \u001b[38;5;28;01melse\u001b[39;00m:\n\u001b[1;32m   2337\u001b[0m     \u001b[38;5;28;01massert\u001b[39;00m exc_info[\u001b[38;5;241m1\u001b[39m] \u001b[38;5;129;01mis\u001b[39;00m \u001b[38;5;129;01mnot\u001b[39;00m \u001b[38;5;28;01mNone\u001b[39;00m\n",
      "File \u001b[0;32m~/anaconda3/envs/fs_ads/lib/python3.11/site-packages/sqlalchemy/engine/base.py:1960\u001b[0m, in \u001b[0;36mConnection._exec_single_context\u001b[0;34m(self, dialect, context, statement, parameters)\u001b[0m\n\u001b[1;32m   1958\u001b[0m                 \u001b[38;5;28;01mbreak\u001b[39;00m\n\u001b[1;32m   1959\u001b[0m     \u001b[38;5;28;01mif\u001b[39;00m \u001b[38;5;129;01mnot\u001b[39;00m evt_handled:\n\u001b[0;32m-> 1960\u001b[0m         \u001b[38;5;28mself\u001b[39m\u001b[38;5;241m.\u001b[39mdialect\u001b[38;5;241m.\u001b[39mdo_execute(\n\u001b[1;32m   1961\u001b[0m             cursor, str_statement, effective_parameters, context\n\u001b[1;32m   1962\u001b[0m         )\n\u001b[1;32m   1964\u001b[0m \u001b[38;5;28;01mif\u001b[39;00m \u001b[38;5;28mself\u001b[39m\u001b[38;5;241m.\u001b[39m_has_events \u001b[38;5;129;01mor\u001b[39;00m \u001b[38;5;28mself\u001b[39m\u001b[38;5;241m.\u001b[39mengine\u001b[38;5;241m.\u001b[39m_has_events:\n\u001b[1;32m   1965\u001b[0m     \u001b[38;5;28mself\u001b[39m\u001b[38;5;241m.\u001b[39mdispatch\u001b[38;5;241m.\u001b[39mafter_cursor_execute(\n\u001b[1;32m   1966\u001b[0m         \u001b[38;5;28mself\u001b[39m,\n\u001b[1;32m   1967\u001b[0m         cursor,\n\u001b[0;32m   (...)\u001b[0m\n\u001b[1;32m   1971\u001b[0m         context\u001b[38;5;241m.\u001b[39mexecutemany,\n\u001b[1;32m   1972\u001b[0m     )\n",
      "File \u001b[0;32m~/anaconda3/envs/fs_ads/lib/python3.11/site-packages/sqlalchemy/engine/default.py:924\u001b[0m, in \u001b[0;36mDefaultDialect.do_execute\u001b[0;34m(self, cursor, statement, parameters, context)\u001b[0m\n\u001b[1;32m    923\u001b[0m \u001b[38;5;28;01mdef\u001b[39;00m \u001b[38;5;21mdo_execute\u001b[39m(\u001b[38;5;28mself\u001b[39m, cursor, statement, parameters, context\u001b[38;5;241m=\u001b[39m\u001b[38;5;28;01mNone\u001b[39;00m):\n\u001b[0;32m--> 924\u001b[0m     cursor\u001b[38;5;241m.\u001b[39mexecute(statement, parameters)\n",
      "\u001b[0;31mProgrammingError\u001b[0m: (psycopg2.errors.UndefinedColumn) column \"permno\" does not exist\nLINE 2: SELECT permno, cik\n               ^\nHINT:  Perhaps you meant to reference the column \"ccmxpf_linktable.lpermno\".\n\n[SQL: \nSELECT permno, cik\nFROM crsp.ccmxpf_linktable\nWHERE cik = '0000320193'\nAND lpermno IS NOT NULL\nORDER BY linkdt DESC\nLIMIT 1;\n]\n(Background on this error at: https://sqlalche.me/e/20/f405)"
     ]
    }
   ],
   "source": [
    "import wrds\n",
    "\n",
    "# Connect to WRDS\n",
    "db = wrds.Connection()\n",
    "\n",
    "# Specify the CIK number you want to convert\n",
    "cik_number = '0000320193'  # Example CIK for Apple Inc.\n",
    "\n",
    "# Query to find the corresponding PERMNO\n",
    "query = f\"\"\"\n",
    "SELECT permno, cik\n",
    "FROM crsp.ccmxpf_linktable\n",
    "WHERE cik = '{cik_number}'\n",
    "AND lpermno IS NOT NULL\n",
    "ORDER BY linkdt DESC\n",
    "LIMIT 1;\n",
    "\"\"\"\n",
    "\n",
    "# Execute the query\n",
    "result = db.raw_sql(query)\n",
    "\n",
    "# Check if we found a match and print it\n",
    "if not result.empty:\n",
    "    print(f\"CIK {cik_number} corresponds to PERMNO {int(result['permno'].iloc[0])}\")\n",
    "else:\n",
    "    print(\"No matching PERMNO found for the given CIK.\")\n"
   ]
  }
 ],
 "metadata": {
  "kernelspec": {
   "display_name": "Python 3 (ipykernel)",
   "language": "python",
   "name": "python3"
  },
  "language_info": {
   "codemirror_mode": {
    "name": "ipython",
    "version": 3
   },
   "file_extension": ".py",
   "mimetype": "text/x-python",
   "name": "python",
   "nbconvert_exporter": "python",
   "pygments_lexer": "ipython3",
   "version": "3.11.5"
  }
 },
 "nbformat": 4,
 "nbformat_minor": 5
}
