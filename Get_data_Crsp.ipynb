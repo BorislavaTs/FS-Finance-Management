{
 "cells": [
  {
   "cell_type": "code",
   "execution_count": 1,
   "id": "4ec4522f",
   "metadata": {},
   "outputs": [
    {
     "name": "stderr",
     "output_type": "stream",
     "text": [
      "C:\\Users\\anne-\\anaconda3\\Lib\\site-packages\\pandas\\core\\arrays\\masked.py:60: UserWarning: Pandas requires version '1.3.6' or newer of 'bottleneck' (version '1.3.5' currently installed).\n",
      "  from pandas.core import (\n"
     ]
    }
   ],
   "source": [
    "import wrds\n",
    "import pandas as pd\n",
    "from pathlib import Path"
   ]
  },
  {
   "cell_type": "code",
   "execution_count": 2,
   "id": "d14983b5",
   "metadata": {},
   "outputs": [],
   "source": [
    "file_path = Path.cwd() / \"SAMPLE_10Ks\"\n",
    "file_path.mkdir(parents=True, exist_ok=True)\n"
   ]
  },
  {
   "cell_type": "code",
   "execution_count": 3,
   "id": "63beea65",
   "metadata": {},
   "outputs": [],
   "source": [
    "def create_codes(path):\n",
    "    names_list = []\n",
    "    cik_list = []\n",
    "    year_list = []\n",
    "\n",
    "    for files in path.glob(\"*.txt\"):\n",
    "        file = files.read_text().splitlines()\n",
    "        loop = -1\n",
    "        for lines in file:\n",
    "            loop = loop + 1\n",
    "            line = lines.rfind(\"COMPANY CONFORMED NAME:\")\n",
    "            if line != -1:\n",
    "                name = file[loop].replace(\"COMPANY CONFORMED NAME:\", \"\").strip().rstrip()\n",
    "                names_list.append(name)\n",
    "                break\n",
    "\n",
    "    for files in path.glob(\"*.txt\"):\n",
    "        file = files.read_text().splitlines()\n",
    "        year = files.name[:-5:-1]\n",
    "        year = year[::-1]\n",
    "        year_list.append(year)\n",
    "        loop = -1\n",
    "        for lines in file:\n",
    "            loop = loop + 1\n",
    "            line = lines.rfind(\"CENTRAL INDEX KEY:\")\n",
    "            if line != -1:\n",
    "                cik = file[loop].replace(\"CENTRAL INDEX KEY:\", \"\").strip().rstrip()\n",
    "                cik_list.append(cik)\n",
    "                break\n",
    "    \n",
    "    \n",
    "    company_info = pd.DataFrame()\n",
    "    company_info[\"Companies\"] = names_list\n",
    "    company_info[\"CIK\"] = cik_list\n",
    "    company_info[\"Year\"] = year_list\n",
    "\n",
    "    return company_info"
   ]
  },
  {
   "cell_type": "code",
   "execution_count": 9,
   "id": "5b55b6ae",
   "metadata": {},
   "outputs": [],
   "source": [
    "company_info = create_codes(file_path)\n",
    "\n",
    "company_info.drop_duplicates()\n",
    "\n",
    "year_list = list(company_info[\"Year\"])\n",
    "cik_list = list(company_info[\"CIK\"])\n",
    "names_list = list(company_info[\"Companies\"])"
   ]
  },
  {
   "cell_type": "code",
   "execution_count": null,
   "id": "99982b93",
   "metadata": {},
   "outputs": [],
   "source": [
    "db = wrds.Connection()"
   ]
  },
  {
   "cell_type": "code",
   "execution_count": null,
   "id": "4234208f",
   "metadata": {},
   "outputs": [],
   "source": [
    "tuple_cik = tuple(cik_list)\n",
    "cik_params = {\"cik_list\": tuple_cik}"
   ]
  },
  {
   "cell_type": "code",
   "execution_count": null,
   "id": "02c9949f",
   "metadata": {},
   "outputs": [],
   "source": [
    "CIK_query = db.raw_sql(\"\"\"SELECT cik, cusip, lpermno, linkdt FROM crsp_a_ccm.ccm_lookup\n",
    "                 WHERE cik IN %(cik_list)s\"\"\", params = cik_params)\n",
    "CUSIP = pd.DataFrame(CIK_query)\n",
    "\n",
    "cusip_tuple = tuple(CUSIP[\"cusip\"])\n",
    "cusip_params = {\"cusip_list\": cusip_tuple}\n",
    "\n",
    "permno_tuple = tuple(CUSIP[\"lpermno\"])\n",
    "permno_params = {\"permno_list\": permno_tuple}"
   ]
  },
  {
   "cell_type": "code",
   "execution_count": null,
   "id": "7da6f071",
   "metadata": {},
   "outputs": [],
   "source": [
    "db.close"
   ]
  },
  {
   "cell_type": "code",
   "execution_count": null,
   "id": "3b15d673",
   "metadata": {},
   "outputs": [],
   "source": [
    "db = wrds.Connection()"
   ]
  },
  {
   "cell_type": "code",
   "execution_count": null,
   "id": "7f175fa8",
   "metadata": {},
   "outputs": [],
   "source": [
    "Returns_Query = db.raw_sql(\"\"\"SELECT permno,yyyy,cusip,annret,anncap  FROM crsp_a_stock.stkannsecuritydata\n",
    "                 WHERE permno IN %(permno_list)s\"\"\", params = permno_params)\n",
    "RETURNS = pd.DataFrame(Returns_Query)"
   ]
  },
  {
   "cell_type": "code",
   "execution_count": null,
   "id": "98d25e83",
   "metadata": {},
   "outputs": [],
   "source": [
    "db.close"
   ]
  }
 ],
 "metadata": {
  "kernelspec": {
   "display_name": "Python 3 (ipykernel)",
   "language": "python",
   "name": "python3"
  },
  "language_info": {
   "codemirror_mode": {
    "name": "ipython",
    "version": 3
   },
   "file_extension": ".py",
   "mimetype": "text/x-python",
   "name": "python",
   "nbconvert_exporter": "python",
   "pygments_lexer": "ipython3",
   "version": "3.11.4"
  }
 },
 "nbformat": 4,
 "nbformat_minor": 5
}
